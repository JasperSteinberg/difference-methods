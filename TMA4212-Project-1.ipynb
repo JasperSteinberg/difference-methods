{
  "cells": [
    {
      "cell_type": "markdown",
      "metadata": {
        "id": "9PPGzB_w4R3A"
      },
      "source": [
        "# Prosject 1 TMA4212"
      ]
    },
    {
      "cell_type": "code",
      "execution_count": 23,
      "metadata": {
        "id": "BsCjqWb001YH"
      },
      "outputs": [],
      "source": [
        "%matplotlib inline\n",
        "from google.colab import files\n",
        "import numpy as np\n",
        "import time\n",
        "import matplotlib.pyplot as plt\n",
        "import matplotlib as mpl\n",
        "\n",
        "newparams = {'figure.figsize': (8.0, 4.0), 'axes.grid': True,\n",
        "             'lines.markersize': 8, 'lines.linewidth': 2,\n",
        "             'font.size': 14}\n",
        "from matplotlib import cm\n",
        "plt.rcParams.update(newparams)"
      ]
    },
    {
      "cell_type": "markdown",
      "metadata": {
        "id": "i0ziXv5Q4fg1"
      },
      "source": [
        "# Task 1\n"
      ]
    },
    {
      "cell_type": "code",
      "execution_count": 7,
      "metadata": {
        "id": "Pvw-tu4Zp_7W"
      },
      "outputs": [],
      "source": [
        "# Setting the constants\n",
        "sigma2 = 2\n",
        "r = 1\n",
        "c = 1"
      ]
    },
    {
      "cell_type": "markdown",
      "metadata": {
        "id": "lWygfo4wqJQD"
      },
      "source": [
        "### Initial Conditions"
      ]
    },
    {
      "cell_type": "code",
      "execution_count": 20,
      "metadata": {
        "id": "MOy0H74cCC9R"
      },
      "outputs": [],
      "source": [
        "def European_put(x):\n",
        "    K = 1\n",
        "    return np.maximum(K*np.ones(x.size)-x,np.zeros(x.size)) \n",
        "\n",
        "def butterfly_spread(x):\n",
        "    K = 1\n",
        "    H = 1\n",
        "    f1 = np.maximum( x - K*np.ones(x.size) , np.zeros(x.size))  \n",
        "    f2 = - 2 * np.maximum( x - (K+H)*np.ones(x.size) , np.zeros(x.size)) \n",
        "    f3 = np.maximum( x - (K+2*H)*np.ones(x.size) , np.zeros(x.size)) \n",
        "    return f1+f2+f3\n",
        "\n",
        "def binary_call(x):\n",
        "    K = 1\n",
        "    return np.heaviside(x-K*np.ones(x.size), 1)\n",
        "\n",
        "f = lambda x,t: 0"
      ]
    },
    {
      "cell_type": "markdown",
      "metadata": {
        "id": "_TfFFYKbqYB_"
      },
      "source": [
        "## Finite Difference Schemes for Black-Scholes by Forward Euler, Backward Euler and Crank-Nicholson"
      ]
    },
    {
      "cell_type": "code",
      "execution_count": 9,
      "metadata": {
        "id": "Y-9yBgrA1Hou"
      },
      "outputs": [],
      "source": [
        "def matrix_A(P):\n",
        "    # Returns the tridiagonal matrix which we use to contruct the matrices for\n",
        "    # FE, BE, and CN. Returns a matrix of dimension P.\n",
        "\n",
        "    # Making the matrix\n",
        "    m = np.arange(1, P+1)        # array [1,2,...,P] \n",
        "    e = np.ones(P)               # array [1,1,...,1] \n",
        "    v = (sigma2/2)*m[1:]*m[1:]-(r/2)*m[1:] # lower diag\n",
        "    d = sigma2*m*m+c*e # -diag\n",
        "    w = (sigma2/2)*m[:P-1]*m[:P-1]+(r/2)*m[:P-1] # upper diag\n",
        "    A = np.diag(v,-1)-np.diag(d)+np.diag(w,1)\n",
        "    return A\n"
      ]
    },
    {
      "cell_type": "code",
      "execution_count": 10,
      "metadata": {
        "id": "oOw_CedpYLmx"
      },
      "outputs": [],
      "source": [
        "def forward_euler(g, f=f, M=10, N=100, T=0.5, R=5, Neumann = False):\n",
        "    # Solve the BS equation\n",
        "    # with boundary conditions u(0,t)=u(0,0)e^{-ct}\n",
        "    # and u(R,t) = u(R,0) if Dirichlet, \n",
        "    # and u_x(R,t) = 0 if Neumann,\n",
        "    # with initial values u(x,0)=g(x)\n",
        "    # over the time interval from 0 to T\n",
        "    # and space interval 0 to R (\"infinity\").\n",
        "    # Input: \n",
        "    #       g: function with the initial values,\n",
        "    #       f: RHS, function of (space,time)\n",
        "    #       M, N: number of grid intervals in the x- and t directions\n",
        "    #       T: end of time integration\n",
        "    #       R: considered infinity in x-direction\n",
        "    #       Neumann: if infinity BC is Neumann\n",
        "    # Output: \n",
        "    #       x, t: the gridpoints in the x- and t- directions \n",
        "    #       U: An array with the numerical solution.\n",
        "\n",
        "    # Set the stepsizes\n",
        "    h = R/M     # Stepsize in space\n",
        "    k = T/N     # Stepsize in time\n",
        "\n",
        "    U = np.zeros((M+1,N+1))    # Array to store the solution, boundaries included.\n",
        "    x = np.linspace(0,R,M+1)   # Gridpoints on the x-axis\n",
        "    t = np.linspace(0,T,N+1)   # Gridpoints on the t-axis\n",
        "    U[:,0] = g(x)              # Initial values      \n",
        "\n",
        "    if Neumann:\n",
        "      P = M\n",
        "    else:\n",
        "      P = M - 1  \n",
        "\n",
        "    b = np.zeros(P)            # Boundaries  \n",
        "    fn = np.zeros(P)            # RHS \n",
        "      \n",
        "    C = np.identity(P)+k*matrix_A(P)\n",
        "\n",
        "    U[0, :] = g(x[0])*np.exp(-c*t)\n",
        "\n",
        "    if Neumann:\n",
        "      C[-1,-2] = k*sigma2*(M**2) \n",
        "      # Main loop \n",
        "      for n in range(N):\n",
        "        b[0] = g(x[0])*np.exp(-c*n*k)*(sigma2-r)/2\n",
        "        fn = f(x[1:],n*k) + b\n",
        "        U[1:, n+1] = C.dot(U[1:,n]) + k*fn\n",
        "    else:\n",
        "      b[-1] = g(x[-1])*(sigma2*(P**2)+r*P)/2\n",
        "      # Main loop \n",
        "      for n in range(N):\n",
        "        b[0] = g(x[0])*np.exp(-c*n*k)*(sigma2-r)/2\n",
        "        fn = f(x[1:-1],n*k) + b\n",
        "        U[1:-1, n+1] = C.dot(U[1:-1,n]) + k*fn\n",
        "        U[-1, n+1] = g(x[-1])\n",
        "\n",
        "    return x, t, U"
      ]
    },
    {
      "cell_type": "code",
      "execution_count": 11,
      "metadata": {
        "id": "9ELx_j90Ypkl"
      },
      "outputs": [],
      "source": [
        "def backward_euler(g, f=f, M=10, N=100, T=0.5, R=5, Neumann=False):\n",
        "    # Solve the BS equation\n",
        "    # with boundary conditions u(0,t)=u(0,0)e^{-ct}\n",
        "    # and u(R,t) = u(R,0) if Dirichlet, \n",
        "    # and u_x(R,t) = 0 if Neumann,\n",
        "    # with initial values u(x,0)=g(x)\n",
        "    # over the time interval from 0 to T\n",
        "    # and space interval 0 to R (\"infinity\").\n",
        "    # Input: \n",
        "    #       BC: string 'Dirichlet', or 'Neumann', Dirichlet by default\n",
        "    #       g: function with the initial values, European put by default\n",
        "    #       M, N: number of grid intervals in the x- and t directions\n",
        "    #       T: end of time integration\n",
        "    #       R: considered infinity in x-direction\n",
        "    # Output: \n",
        "    #       x, t: the gridpoints in the x- and t- directions \n",
        "    #       U: An array with the numerical solution.\n",
        "\n",
        "    # Set the stepsizes\n",
        "    h = R/M     # Stepsize in space\n",
        "    k = T/N     # Stepsize in time\n",
        "\n",
        "    U = np.zeros((M+1,N+1))    # Array to store the solution, boundaries included.\n",
        "    x = np.linspace(0,R,M+1)   # Gridpoints on the x-axis\n",
        "    t = np.linspace(0,T,N+1)   # Gridpoints on the t-axis\n",
        "    U[:,0] = g(x)              # Initial values      \n",
        "\n",
        "    if Neumann:\n",
        "      P = M\n",
        "    else:\n",
        "      P = M - 1  \n",
        "\n",
        "    b = np.zeros(P)            # Boundaries ++ \n",
        "    fn = np.zeros(P)            # RHS   \n",
        "\n",
        "    B = np.identity(P)-k*matrix_A(P);\n",
        "\n",
        "    if Neumann:\n",
        "      B[-1,-2] = -k*sigma2*M**2\n",
        "      # Main loop \n",
        "      for n in range(N):\n",
        "        b[0] = g(x[0])*np.exp(-c*(n+1)*k)*(sigma2-r)/2\n",
        "        fn = f(x[1:],(n+1)*k) + b\n",
        "        U[1:, n+1] = np.linalg.solve(B,U[1:,n] + k*fn)\n",
        "        U[0, n+1] = g(x[0])*np.exp(-c*(n+1)*k)\n",
        "    else:\n",
        "      b[-1] = g(x[-1])*(sigma2*(P**2)+r*P)/2\n",
        "      # Main loop \n",
        "      for n in range(N):\n",
        "        b[0] = g(x[0])*np.exp(-c*(n+1)*k)*(sigma2-r)/2\n",
        "        fn = f(x[1:-1], (n+1)*k) + b\n",
        "        U[1:-1, n+1] = np.linalg.solve(B,U[1:-1,n] + k*fn)\n",
        "        U[0, n+1] = g(x[0])*np.exp(-c*(n+1)*k)\n",
        "        U[-1, n+1] = g(x[-1])\n",
        "\n",
        "    return x, t, U"
      ]
    },
    {
      "cell_type": "code",
      "execution_count": 12,
      "metadata": {
        "id": "BEh82SjyY6fa"
      },
      "outputs": [],
      "source": [
        "def crank_nicholson(g, f=f, M=10, N=100, T=0.5, R=5, Neumann=False):\n",
        "    # Solve the BS equation\n",
        "    # with boundary conditions u(0,t)=u(0,0)e^{-ct}\n",
        "    # and u(R,t) = u(R,0) if Dirichlet, \n",
        "    # and u_x(R,t) = 0 if Neumann,\n",
        "    # with initial values u(x,0)=g(x)\n",
        "    # over the time interval from 0 to T\n",
        "    # and space interval 0 to R (\"infinity\").\n",
        "    # Input: \n",
        "    #       BC: string 'Dirichlet', or 'Neumann', Dirichlet by default\n",
        "    #       g: function with the initial values, European put by default\n",
        "    #       M, N: number of grid intervals in the x- and t directions\n",
        "    #       T: end of time integration\n",
        "    #       R: considered infinity in x-direction\n",
        "    # Output: \n",
        "    #       x, t: the gridpoints in the x- and t- directions \n",
        "    #       U: An array with the numerical solution.\n",
        "\n",
        "    # Set the stepsizes\n",
        "    h = R/M     # Stepsize in space\n",
        "    k = T/N     # Stepsize in time\n",
        "\n",
        "    U = np.zeros((M+1,N+1))    # Array to store the solution, boundaries included.\n",
        "    x = np.linspace(0,R,M+1)   # Gridpoints on the x-axis\n",
        "    t = np.linspace(0,T,N+1)   # Gridpoints on the t-axis\n",
        "    U[:,0] = g(x)              # Initial values      \n",
        "\n",
        "    if Neumann:\n",
        "      P = M\n",
        "    else:\n",
        "      P = M - 1  \n",
        "\n",
        "    b = np.zeros(P)            # Boundaries ++   \n",
        "    fn = np.zeros(P)           # RHS  \n",
        "\n",
        "    A = matrix_A(P)\n",
        "    B = np.identity(P)-k/2*A\n",
        "    C = np.identity(P)+k/2*A\n",
        "\n",
        "    if Neumann:\n",
        "      B[-1,-2] = -k*sigma2*M**2/2\n",
        "      C[-1,-2] =  k*sigma2*M**2/2   \n",
        "      # Main loop \n",
        "      for n in range(N):\n",
        "        b[0] = 0.5*g(x[0])*(np.exp(-c*(n+1)*k)+np.exp(-c*n*k))*(sigma2-r)/2\n",
        "        fn = 0.5*(f(x[1:],n*k)+f(x[1:],(n+1)*k)) + b\n",
        "        U[1:, n+1] = np.linalg.solve(B, C.dot(U[1:,n])+ k*fn)\n",
        "        U[0, n+1] = g(x[0])*np.exp(-c*(n+1)*k)\n",
        "    else:\n",
        "      b[-1] = g(x[-1])*(sigma2*(P**2)+r*P)/2\n",
        "      # Main loop \n",
        "      for n in range(N):\n",
        "        b[0] = 0.5*g(x[0])*(np.exp(-c*(n+1)*k)+np.exp(-c*n*k))*(sigma2-r)/2\n",
        "        fn = 0.5*(f(x[1:-1], (n+1)*k) + f(x[1:-1], n*k)) + b\n",
        "        U[1:-1, n+1] = np.linalg.solve(B, C.dot(U[1:-1,n])+ k*fn)\n",
        "        U[0, n+1] = g(x[0])*np.exp(-c*(n+1)*k)\n",
        "        U[-1, n+1] = g(x[-1])\n",
        "\n",
        "    return x, t, U"
      ]
    },
    {
      "cell_type": "markdown",
      "metadata": {
        "id": "ACwuMAtw7OMS"
      },
      "source": [
        "## Plotting functions"
      ]
    },
    {
      "cell_type": "code",
      "execution_count": 13,
      "metadata": {
        "id": "rxx3Bl3k2J86"
      },
      "outputs": [],
      "source": [
        "def plot_solution_3D(x, t, U, txt='Solution'):\n",
        "    # Plot the solution of the heat equation\n",
        "    \n",
        "    fig, ax = plt.subplots(subplot_kw={\"projection\": \"3d\"})\n",
        "    T, X = np.meshgrid(t,x)\n",
        "    ax.plot_surface(T, X, U, cmap=cm.coolwarm)\n",
        "    ax.view_init(azim=30)              # Rotate the figure\n",
        "    plt.xlabel('t')\n",
        "    plt.ylabel('x')\n",
        "    plt.title(txt);"
      ]
    },
    {
      "cell_type": "code",
      "execution_count": 14,
      "metadata": {
        "id": "OMyCZPul5maE"
      },
      "outputs": [],
      "source": [
        "def plot_solution(x, t, U):\n",
        "  # Plot the solution at some points in time\n",
        "  plt.figure(1)\n",
        "  plt.clf()\n",
        "  tplots = np.linspace(0,t[-1],6)\n",
        "  k = t[1]-t[0]\n",
        "  for tn in tplots:\n",
        "    n = int(tn/k)\n",
        "    tn = n*k\n",
        "    plt.plot(x,U[:,n],'-',label='t={:.1f}'.format(tn))\n",
        "  plt.xlabel('x')\n",
        "  plt.ylabel('u(x,t)')\n",
        "  plt.legend()"
      ]
    },
    {
      "cell_type": "markdown",
      "metadata": {
        "id": "qfBXYAPP7Qj2"
      },
      "source": [
        "##Tests of the methods"
      ]
    },
    {
      "cell_type": "code",
      "execution_count": 15,
      "metadata": {
        "colab": {
          "base_uri": "https://localhost:8080/",
          "height": 0
        },
        "id": "w6zkXdRY2EaM",
        "outputId": "b80c96ac-0e95-47cb-85af-ef5e801ac6f9"
      },
      "outputs": [
        {
          "output_type": "execute_result",
          "data": {
            "application/vnd.google.colaboratory.intrinsic+json": {
              "type": "string"
            },
            "text/plain": [
              "\"\\nf = lambda x,t : 0 \\n# Test of FE\\nx, t, U = forward_euler(binary_call,f, M=40, N=1700, T=0.5, R = 10, Neumann=True)\\n# Plot for certain times\\nplot_solution(x, t, U)\\n#plt.show()\\n\\n# Make a 3-d plot\\nplot_solution_3D(x, t, U, txt='Solution')\\n#plt.show()\\n\""
            ]
          },
          "metadata": {},
          "execution_count": 15
        }
      ],
      "source": [
        "\"\"\"\n",
        "f = lambda x,t : 0 \n",
        "# Test of FE\n",
        "x, t, U = forward_euler(binary_call,f, M=40, N=1700, T=0.5, R = 10, Neumann=True)\n",
        "# Plot for certain times\n",
        "plot_solution(x, t, U)\n",
        "#plt.show()\n",
        "\n",
        "# Make a 3-d plot\n",
        "plot_solution_3D(x, t, U, txt='Solution')\n",
        "#plt.show()\n",
        "\"\"\""
      ]
    },
    {
      "cell_type": "code",
      "execution_count": 16,
      "metadata": {
        "colab": {
          "base_uri": "https://localhost:8080/",
          "height": 0
        },
        "id": "mHTezo3uBylP",
        "outputId": "ec2d34e5-c8b7-4478-feeb-53a0afb83d7d"
      },
      "outputs": [
        {
          "output_type": "execute_result",
          "data": {
            "application/vnd.google.colaboratory.intrinsic+json": {
              "type": "string"
            },
            "text/plain": [
              "\"\\n# Test of BE\\n\\nx, t, U = backward_euler(butterfly_spread, M=40, N=1700, T=0.5, R=10)\\n\\n# Plot for certain times\\nplot_solution(x, t, U)\\nplt.show()\\n\\n# Make a 3-d plot\\nplot_solution_3D(x, t, U, txt='Solution')\\nplt.show()\\n\""
            ]
          },
          "metadata": {},
          "execution_count": 16
        }
      ],
      "source": [
        "\"\"\"\n",
        "# Test of BE\n",
        "\n",
        "x, t, U = backward_euler(butterfly_spread, M=40, N=1700, T=0.5, R=10)\n",
        "\n",
        "# Plot for certain times\n",
        "plot_solution(x, t, U)\n",
        "plt.show()\n",
        "\n",
        "# Make a 3-d plot\n",
        "plot_solution_3D(x, t, U, txt='Solution')\n",
        "plt.show()\n",
        "\"\"\""
      ]
    },
    {
      "cell_type": "code",
      "execution_count": 17,
      "metadata": {
        "colab": {
          "base_uri": "https://localhost:8080/",
          "height": 0
        },
        "id": "c3FfX0fVJx4O",
        "outputId": "961bf820-2ebb-402a-8b59-e21fd407c30c"
      },
      "outputs": [
        {
          "output_type": "execute_result",
          "data": {
            "application/vnd.google.colaboratory.intrinsic+json": {
              "type": "string"
            },
            "text/plain": [
              "\"\\nx, t, U = crank_nicholson(European_put, M=40, N=1700, T=0.5, R = 10)\\n\\n# Plot for certain times\\nplot_solution(x, t, U)\\nplt.show()\\n\\n# Make a 3-d plot\\nplot_solution_3D(x, t, U, txt='Solution')\\nplt.show()\\n\""
            ]
          },
          "metadata": {},
          "execution_count": 17
        }
      ],
      "source": [
        "# Test of CN\n",
        "\"\"\"\n",
        "x, t, U = crank_nicholson(European_put, M=40, N=1700, T=0.5, R = 10)\n",
        "\n",
        "# Plot for certain times\n",
        "plot_solution(x, t, U)\n",
        "plt.show()\n",
        "\n",
        "# Make a 3-d plot\n",
        "plot_solution_3D(x, t, U, txt='Solution')\n",
        "plt.show()\n",
        "\"\"\""
      ]
    },
    {
      "cell_type": "markdown",
      "metadata": {
        "id": "JJa4IpalAgWg"
      },
      "source": [
        "## Experiments for hand-in"
      ]
    },
    {
      "cell_type": "markdown",
      "metadata": {
        "id": "JKfXNgOgnGz_"
      },
      "source": [
        "### 2x3 plot of more configurations"
      ]
    },
    {
      "cell_type": "code",
      "execution_count": 18,
      "metadata": {
        "colab": {
          "base_uri": "https://localhost:8080/",
          "height": 0
        },
        "id": "mshfwf8aAjnn",
        "outputId": "9e8661da-54e3-41b9-aa5a-ba63ee84cf95"
      },
      "outputs": [
        {
          "output_type": "execute_result",
          "data": {
            "application/vnd.google.colaboratory.intrinsic+json": {
              "type": "string"
            },
            "text/plain": [
              "\"\\n## Dirichlet\\nfig, axs = plt.subplots(2,3, figsize=(12, 5))\\n\\naxs = axs.ravel()\\n\\nf = lambda x,t : 0 \\n\\n# FE, EP\\nx, t, U = forward_euler(European_put,f,  M=40, N=1700, T=0.5, R = 5)\\ntplots = np.linspace(0,t[-1],6)\\nk = t[1]-t[0]\\nfor tn in tplots:\\n    n = int(tn/k)\\n    tn = n*k\\n    axs[0].plot(x,U[:,n],'-',label='t={:.1f}'.format(tn))\\n    axs[0].legend()\\n\\n\\n# BE, BS\\nx, t, U = backward_euler(butterfly_spread,f,  M=40, N=1700, T=0.5, R = 5)\\ntplots = np.linspace(0,t[-1],6)\\nk = t[1]-t[0]\\nfor tn in tplots:\\n    n = int(tn/k)\\n    tn = n*k\\n    axs[1].plot(x,U[:,n],'-',label='t={:.1f}'.format(tn))\\n    #axs[1].legend()\\n\\n# CN, BC\\nx, t, U = crank_nicholson(binary_call,f,  M=40, N=1700, T=0.5, R = 5)\\ntplots = np.linspace(0,t[-1],6)\\nk = t[1]-t[0]\\nfor tn in tplots:\\n    n = int(tn/k)\\n    tn = n*k\\n    axs[2].plot(x,U[:,n],'-',label='t={:.1f}'.format(tn))\\n    #axs[2].legend()\\n\\naxs[0].set_title('Forward Euler')\\naxs[1].set_title('Backward Euler')\\naxs[2].set_title('Crank Nicholson')\\naxs[0].set_ylabel('Dirichlet, u(x,t)')\\n\\n\\n## Neumann\\n\\n# FE, EP\\nx, t, U = forward_euler(European_put,f,  M=40, N=1700, T=0.5, R = 5, Neumann = True)\\ntplots = np.linspace(0,t[-1],6)\\nk = t[1]-t[0]\\nfor tn in tplots:\\n    n = int(tn/k)\\n    tn = n*k\\n    axs[3].plot(x,U[:,n],'-',label='t={:.1f}'.format(tn))\\n    #axs[3].legend()\\n\\n\\n# BE, BS\\nx, t, U = backward_euler(butterfly_spread,f,  M=40, N=1700, T=0.5, R = 5, Neumann = True)\\ntplots = np.linspace(0,t[-1],6)\\nk = t[1]-t[0]\\nfor tn in tplots:\\n    n = int(tn/k)\\n    tn = n*k\\n    axs[4].plot(x,U[:,n],'-',label='t={:.1f}'.format(tn))\\n    #axs[4].legend()\\n\\n# CN, BC\\nx, t, U = crank_nicholson(binary_call,f,  M=40, N=1700, T=0.5, R = 5, Neumann = True)\\ntplots = np.linspace(0,t[-1],6)\\nk = t[1]-t[0]\\nfor tn in tplots:\\n    n = int(tn/k)\\n    tn = n*k\\n    axs[5].plot(x,U[:,n],'-',label='t={:.1f}'.format(tn))\\n    #axs[5].legend()\\n\\naxs[3].set_xlabel('x')\\naxs[4].set_xlabel('x')\\naxs[5].set_xlabel('x')\\naxs[3].set_ylabel('Neumann, u(x,t)')\\n\\n\\n\\nplt.savefig('experiment_lin.pdf')\\nfiles.download('experiment_lin.pdf')\""
            ]
          },
          "metadata": {},
          "execution_count": 18
        }
      ],
      "source": [
        "\"\"\"\n",
        "## Dirichlet\n",
        "fig, axs = plt.subplots(2,3, figsize=(12, 5))\n",
        "\n",
        "axs = axs.ravel()\n",
        "\n",
        "f = lambda x,t : 0 \n",
        "\n",
        "# FE, EP\n",
        "x, t, U = forward_euler(European_put,f,  M=40, N=1700, T=0.5, R = 5)\n",
        "tplots = np.linspace(0,t[-1],6)\n",
        "k = t[1]-t[0]\n",
        "for tn in tplots:\n",
        "    n = int(tn/k)\n",
        "    tn = n*k\n",
        "    axs[0].plot(x,U[:,n],'-',label='t={:.1f}'.format(tn))\n",
        "    axs[0].legend()\n",
        "\n",
        "\n",
        "# BE, BS\n",
        "x, t, U = backward_euler(butterfly_spread,f,  M=40, N=1700, T=0.5, R = 5)\n",
        "tplots = np.linspace(0,t[-1],6)\n",
        "k = t[1]-t[0]\n",
        "for tn in tplots:\n",
        "    n = int(tn/k)\n",
        "    tn = n*k\n",
        "    axs[1].plot(x,U[:,n],'-',label='t={:.1f}'.format(tn))\n",
        "    #axs[1].legend()\n",
        "\n",
        "# CN, BC\n",
        "x, t, U = crank_nicholson(binary_call,f,  M=40, N=1700, T=0.5, R = 5)\n",
        "tplots = np.linspace(0,t[-1],6)\n",
        "k = t[1]-t[0]\n",
        "for tn in tplots:\n",
        "    n = int(tn/k)\n",
        "    tn = n*k\n",
        "    axs[2].plot(x,U[:,n],'-',label='t={:.1f}'.format(tn))\n",
        "    #axs[2].legend()\n",
        "\n",
        "axs[0].set_title('Forward Euler')\n",
        "axs[1].set_title('Backward Euler')\n",
        "axs[2].set_title('Crank Nicholson')\n",
        "axs[0].set_ylabel('Dirichlet, u(x,t)')\n",
        "\n",
        "\n",
        "## Neumann\n",
        "\n",
        "# FE, EP\n",
        "x, t, U = forward_euler(European_put,f,  M=40, N=1700, T=0.5, R = 5, Neumann = True)\n",
        "tplots = np.linspace(0,t[-1],6)\n",
        "k = t[1]-t[0]\n",
        "for tn in tplots:\n",
        "    n = int(tn/k)\n",
        "    tn = n*k\n",
        "    axs[3].plot(x,U[:,n],'-',label='t={:.1f}'.format(tn))\n",
        "    #axs[3].legend()\n",
        "\n",
        "\n",
        "# BE, BS\n",
        "x, t, U = backward_euler(butterfly_spread,f,  M=40, N=1700, T=0.5, R = 5, Neumann = True)\n",
        "tplots = np.linspace(0,t[-1],6)\n",
        "k = t[1]-t[0]\n",
        "for tn in tplots:\n",
        "    n = int(tn/k)\n",
        "    tn = n*k\n",
        "    axs[4].plot(x,U[:,n],'-',label='t={:.1f}'.format(tn))\n",
        "    #axs[4].legend()\n",
        "\n",
        "# CN, BC\n",
        "x, t, U = crank_nicholson(binary_call,f,  M=40, N=1700, T=0.5, R = 5, Neumann = True)\n",
        "tplots = np.linspace(0,t[-1],6)\n",
        "k = t[1]-t[0]\n",
        "for tn in tplots:\n",
        "    n = int(tn/k)\n",
        "    tn = n*k\n",
        "    axs[5].plot(x,U[:,n],'-',label='t={:.1f}'.format(tn))\n",
        "    #axs[5].legend()\n",
        "\n",
        "axs[3].set_xlabel('x')\n",
        "axs[4].set_xlabel('x')\n",
        "axs[5].set_xlabel('x')\n",
        "axs[3].set_ylabel('Neumann, u(x,t)')\n",
        "\n",
        "\n",
        "\n",
        "plt.savefig('experiment_lin.pdf')\n",
        "files.download('experiment_lin.pdf')\"\"\"\n"
      ]
    },
    {
      "cell_type": "markdown",
      "metadata": {
        "id": "pk3CVKpFx_Z3"
      },
      "source": [
        "### 1x2 Binary Call with BE example"
      ]
    },
    {
      "cell_type": "code",
      "execution_count": 19,
      "metadata": {
        "colab": {
          "base_uri": "https://localhost:8080/",
          "height": 235
        },
        "id": "tvScUI8_x2u4",
        "outputId": "2ad645c3-264e-4937-a0a5-6d6e80837221"
      },
      "outputs": [
        {
          "output_type": "error",
          "ename": "NameError",
          "evalue": "ignored",
          "traceback": [
            "\u001b[0;31m---------------------------------------------------------------------------\u001b[0m",
            "\u001b[0;31mNameError\u001b[0m                                 Traceback (most recent call last)",
            "\u001b[0;32m<ipython-input-19-6f87229e0a87>\u001b[0m in \u001b[0;36m<module>\u001b[0;34m()\u001b[0m\n\u001b[1;32m      1\u001b[0m \u001b[0;31m## Dirichlet\u001b[0m\u001b[0;34m\u001b[0m\u001b[0;34m\u001b[0m\u001b[0;34m\u001b[0m\u001b[0m\n\u001b[0;32m----> 2\u001b[0;31m \u001b[0mfig\u001b[0m\u001b[0;34m,\u001b[0m \u001b[0maxs\u001b[0m \u001b[0;34m=\u001b[0m \u001b[0mplt\u001b[0m\u001b[0;34m.\u001b[0m\u001b[0msubplots\u001b[0m\u001b[0;34m(\u001b[0m\u001b[0;36m1\u001b[0m\u001b[0;34m,\u001b[0m\u001b[0;36m2\u001b[0m\u001b[0;34m,\u001b[0m \u001b[0mfigsize\u001b[0m\u001b[0;34m=\u001b[0m\u001b[0;34m(\u001b[0m\u001b[0;36m15\u001b[0m\u001b[0;34m,\u001b[0m \u001b[0;36m3\u001b[0m\u001b[0;34m)\u001b[0m\u001b[0;34m)\u001b[0m\u001b[0;34m\u001b[0m\u001b[0;34m\u001b[0m\u001b[0m\n\u001b[0m\u001b[1;32m      3\u001b[0m \u001b[0;34m\u001b[0m\u001b[0m\n\u001b[1;32m      4\u001b[0m \u001b[0maxs\u001b[0m \u001b[0;34m=\u001b[0m \u001b[0maxs\u001b[0m\u001b[0;34m.\u001b[0m\u001b[0mravel\u001b[0m\u001b[0;34m(\u001b[0m\u001b[0;34m)\u001b[0m\u001b[0;34m\u001b[0m\u001b[0;34m\u001b[0m\u001b[0m\n\u001b[1;32m      5\u001b[0m \u001b[0;34m\u001b[0m\u001b[0m\n",
            "\u001b[0;31mNameError\u001b[0m: name 'plt' is not defined"
          ]
        }
      ],
      "source": [
        "## Dirichlet\n",
        "fig, axs = plt.subplots(1,2, figsize=(15, 3))\n",
        "\n",
        "axs = axs.ravel()\n",
        "\n",
        "f = lambda x,t : 0 \n",
        "\n",
        "# BE, BC, Dirichlet\n",
        "x, t, U = backward_euler(binary_call,f,  M=40, N=1700, T=0.5, R = 5)\n",
        "tplots = np.linspace(0,t[-1],6)\n",
        "k = t[1]-t[0]\n",
        "for tn in tplots:\n",
        "    n = int(tn/k)\n",
        "    tn = n*k\n",
        "    axs[0].plot(x,U[:,n],'-',label='t={:.1f}'.format(tn))\n",
        "    axs[0].legend(fontsize = 14)\n",
        "\n",
        "\n",
        "# BE, BC, Neumann\n",
        "x, t, U = backward_euler(binary_call,f,  M=40, N=1700, T=0.5, R = 5, Neumann = True)\n",
        "tplots = np.linspace(0,t[-1],6)\n",
        "k = t[1]-t[0]\n",
        "for tn in tplots:\n",
        "    n = int(tn/k)\n",
        "    tn = n*k\n",
        "    axs[1].plot(x,U[:,n],'-',label='t={:.1f}'.format(tn))\n",
        "\n",
        "axs[0].set_title('Dirichlet BCs',fontsize = 18)\n",
        "axs[1].set_title('Neumann BCs',fontsize = 18)\n",
        "axs[0].set_ylabel('u(x,t)',fontsize = 14)\n",
        "axs[1].set_ylabel('u(x,t)',fontsize = 14)\n",
        "axs[0].set_xlabel('x',fontsize = 14)\n",
        "axs[1].set_xlabel('x',fontsize = 14)\n",
        "\n",
        "#plt.savefig('experiment_lin_2.pdf')\n",
        "#files.download('experiment_lin_2.pdf')\n"
      ]
    },
    {
      "cell_type": "markdown",
      "metadata": {
        "id": "CP0XrPClgabT"
      },
      "source": [
        "## Results for hand-in"
      ]
    },
    {
      "cell_type": "markdown",
      "metadata": {
        "id": "pZY3M-Ne83Gj"
      },
      "source": [
        "### Timing the functions"
      ]
    },
    {
      "cell_type": "code",
      "execution_count": null,
      "metadata": {
        "id": "PGFf_7G382Fs"
      },
      "outputs": [],
      "source": [
        "FE_it = time.perf_counter()\n",
        "x, t, U = forward_euler(European_put,f,  M=40, N=1700, T=0.5, R = 10)\n",
        "FE_ft = time.perf_counter()\n",
        "\n",
        "BE_it = time.perf_counter()\n",
        "x, t, U = backward_euler(European_put,f,  M=40, N=1700, T=0.5, R = 10)\n",
        "BE_ft = time.perf_counter()\n",
        "\n",
        "CN_it = time.perf_counter()\n",
        "x, t, U = crank_nicholson(European_put,f,  M=40, N=1700, T=0.5, R = 10)\n",
        "CN_ft = time.perf_counter()\n",
        "\n",
        "print('Run-time for forward Euler: '+ str(FE_ft-FE_it))\n",
        "print('Run-time for backward Euler: '+ str(BE_ft-BE_it))\n",
        "print('Run-time for Crank-Nicholson: '+ str(CN_ft-CN_it))"
      ]
    },
    {
      "cell_type": "markdown",
      "metadata": {
        "id": "Npr002bMc9o3"
      },
      "source": [
        "### Function error analysis\n",
        "\n",
        "Exact solution and its corresponding RHS (forcing)."
      ]
    },
    {
      "cell_type": "code",
      "execution_count": null,
      "metadata": {
        "id": "yxRM99kfukEF"
      },
      "outputs": [],
      "source": [
        "def u_exact(x,t):\n",
        "  return np.sin(x)*np.exp(-c*t) \n",
        "\n",
        "def u_initial(x):\n",
        "  return np.sin(x)\n",
        "\n",
        "def forcing(x,t):\\\n",
        "  return np.exp(-c*t)*(0.5*sigma2*x**2*np.sin(x)-r*x*np.cos(x))"
      ]
    },
    {
      "cell_type": "markdown",
      "metadata": {
        "id": "u95GeFNSgUdO"
      },
      "source": [
        "\n",
        "\n",
        "### Error in space\n",
        "\n"
      ]
    },
    {
      "cell_type": "code",
      "execution_count": null,
      "metadata": {
        "id": "jw7K2ZJec8hQ"
      },
      "outputs": [],
      "source": [
        "def convergence_x(u_exact, f, RHS, T=0.1, R=5, Neumann=False, solver=forward_euler): \n",
        "    \"\"\"\n",
        "    Input:\n",
        "        u_exact(func) : exact solution\n",
        "        RHS (func) : Right hand side of our PDE\n",
        "        f (func) : Initial condition\n",
        "        ...\n",
        "    \"\"\"\n",
        "    P = 4\n",
        "    Hconv = np.zeros(P)\n",
        "    Econv = np.zeros(P)\n",
        "    M = 20\n",
        "    for p in range(P):\n",
        "        if solver == imex:\n",
        "          x, t, U = solver(f,RHS, M=M, N=100000, T=T, R=R)\n",
        "        elif solver == nonlin_backward_euler:\n",
        "          x, t, U = solver(f, vector_f, RHS, M=M, N=100000, T=T, R=R)\n",
        "        else:\n",
        "          x, t, U = solver(f,RHS, M=M, N=100000, T=T, R=R, Neumann=Neumann)\n",
        "        Eh = u_exact(x[1:-1],t[-1])-U[1:-1,-1]\n",
        "        Hconv[p] = (x[1]-x[0])\n",
        "        Econv[p] = np.max(np.abs(Eh))\n",
        "        M = 2*M\n",
        "    order = np.polyfit(np.log(Hconv),np.log(Econv),1)[0]\n",
        "    return Hconv, Econv, order"
      ]
    },
    {
      "cell_type": "markdown",
      "metadata": {
        "id": "bBaqD_oNnyod"
      },
      "source": [
        "### 2x3 Error plot in space"
      ]
    },
    {
      "cell_type": "code",
      "execution_count": null,
      "metadata": {
        "id": "mnJAAbciGJ-G"
      },
      "outputs": [],
      "source": [
        "\"\"\"\n",
        "fig, axs = plt.subplots(2,3, figsize=(20, 8))\n",
        "#fig.subplots_adjust(hspace = .5, wspace=.001)\n",
        "\n",
        "length1 = 3*np.pi\n",
        "\n",
        "axs = axs.ravel()\n",
        "H, E, p = convergence_x(u_exact, u_initial, forcing, T=0.1, R=length1, Neumann=False, solver=forward_euler)\n",
        "axs[0].loglog(H,E,'o-', label='p={:.2f}'.format(p))\n",
        "axs[0].legend()\n",
        "\n",
        "H, E, p = convergence_x(u_exact, u_initial, forcing, T=0.1, R=length1, Neumann=False, solver=backward_euler)\n",
        "axs[1].loglog(H,E,'o-', label='p={:.2f}'.format(p))\n",
        "axs[1].legend()\n",
        "\n",
        "H, E, p = convergence_x(u_exact, u_initial, forcing, T=0.1, R=length1, Neumann=False, solver=crank_nicholson)\n",
        "axs[2].loglog(H,E,'o-', label='p={:.2f}'.format(p))\n",
        "axs[2].legend()\n",
        "\n",
        "\n",
        "length2 = 3.5*np.pi\n",
        "\n",
        "H, E, p = convergence_x(u_exact, u_initial, forcing, T=0.1, R=length2, Neumann=True, solver=forward_euler)\n",
        "axs[3].loglog(H,E,'o-', label='p={:.2f}'.format(p))\n",
        "axs[3].legend()\n",
        "\n",
        "H, E, p = convergence_x(u_exact, u_initial, forcing, T=0.1, R=length2, Neumann=True, solver=backward_euler)\n",
        "axs[4].loglog(H,E,'o-', label='p={:.2f}'.format(p))\n",
        "axs[4].legend()\n",
        "\n",
        "H, E, p = convergence_x(u_exact, u_initial, forcing, T=0.1, R=length2, Neumann=True, solver=crank_nicholson)\n",
        "axs[5].loglog(H,E,'o-', label='p={:.2f}'.format(p))\n",
        "axs[5].legend()\n",
        "\n",
        "axs[0].set_title('Forward Euler', fontsize=22)\n",
        "axs[1].set_title('Backward Euler', fontsize=22)\n",
        "axs[2].set_title('Crank Nicholson', fontsize=22)\n",
        "axs[3].set_xlabel('h', fontsize=18)\n",
        "axs[4].set_xlabel('h', fontsize=18)\n",
        "axs[5].set_xlabel('h', fontsize=18)\n",
        "axs[0].set_ylabel('Error, Dirichlet', fontsize=18)\n",
        "axs[3].set_ylabel('Error, Neumann', fontsize=18)\n",
        "\n",
        "plt.savefig('error_space.pdf')\n",
        "files.download('error_space.pdf')\n",
        "\"\"\""
      ]
    },
    {
      "cell_type": "markdown",
      "metadata": {
        "id": "VXQ31Vb-pPa2"
      },
      "source": [
        "### 1x2 plot for BE error in space for Neumann and Dirichlet"
      ]
    },
    {
      "cell_type": "code",
      "execution_count": null,
      "metadata": {
        "id": "Io2j_Je4pebT"
      },
      "outputs": [],
      "source": [
        "fig, axs = plt.subplots(1,2, figsize=(15, 3))\n",
        "\n",
        "length1 = 3*np.pi\n",
        "\n",
        "axs = axs.ravel()\n",
        "\n",
        "H, E, p = convergence_x(u_exact, u_initial, forcing, T=0.1, R=length1, Neumann=False, solver=backward_euler)\n",
        "axs[0].loglog(H,E,'o-', label='p={:.2f}'.format(p))\n",
        "axs[0].legend(fontsize= 14)\n",
        "\n",
        "length2 = 3.5*np.pi\n",
        "\n",
        "H, E, p = convergence_x(u_exact, u_initial, forcing, T=0.1, R=length2, Neumann=True, solver=backward_euler)\n",
        "axs[1].loglog(H,E,'o-', label='p={:.2f}'.format(p))\n",
        "axs[1].legend(fontsize= 14)\n",
        "\n",
        "axs[0].set_title('Dirichlet BCs',fontsize= 18)\n",
        "axs[1].set_title('Neumann BCs',fontsize= 18)\n",
        "axs[0].set_xlabel('h',fontsize= 14)\n",
        "axs[1].set_xlabel('h',fontsize= 14)\n",
        "axs[0].set_ylabel('Error',fontsize= 14)\n",
        "axs[1].set_ylabel('Error',fontsize= 14)\n",
        "\n",
        "#plt.savefig('error_space_2.pdf')\n",
        "#files.download('error_space_2.pdf')"
      ]
    },
    {
      "cell_type": "markdown",
      "metadata": {
        "id": "djJfRJBZURd4"
      },
      "source": [
        "## Error in time"
      ]
    },
    {
      "cell_type": "code",
      "execution_count": null,
      "metadata": {
        "id": "mb7FWSyFUP8A"
      },
      "outputs": [],
      "source": [
        "x, t, U_ref = forward_euler(u_initial,f, M=40, N=100000, T=0.1, R=10, Neumann=False)\n",
        "def convergence_t(u_exact, U_ref, R = 10, solver=forward_euler, Neumann = False): \n",
        "    P = 4\n",
        "    Tconv = np.zeros(P)\n",
        "    Econv = np.zeros(P)\n",
        "    N = 800\n",
        "    for p in range(P):\n",
        "        x, t, U = solver(u_initial,f, M=40, N=N, T=0.1, R=R, Neumann=Neumann)\n",
        "        Eh = U_ref[2:-2,-1] - U[2:-2,-1]\n",
        "        Tconv[p] = (t[1]-t[0])\n",
        "        Econv[p] = np.max(np.abs(Eh))\n",
        "        N = 2*N\n",
        "    order = np.polyfit(np.log(Tconv),np.log(Econv),1)[0]\n",
        "    return Tconv, Econv, order"
      ]
    },
    {
      "cell_type": "markdown",
      "metadata": {
        "id": "QcFPzbp8n4wt"
      },
      "source": [
        "## 2x3 Error plot in time"
      ]
    },
    {
      "cell_type": "code",
      "execution_count": null,
      "metadata": {
        "id": "PMlpNpoJVWsw"
      },
      "outputs": [],
      "source": [
        "\"\"\"\n",
        "figure, ax = plt.subplots()\n",
        "\n",
        "plt.rcParams.update({'font.size': 13})\n",
        "\n",
        "T, E, p = convergence_t(u_exact, U_ref)\n",
        "ax.loglog(T,E,'o-', label='p={:.2f}'.format(p))\n",
        "ax.set_title('Forward Euler')\n",
        "#plt.grid('on')\n",
        "ax.set_xlabel('k')\n",
        "ax.set_ylabel('error')\n",
        "ax.legend()\n",
        "ax.set_xscale('log')\n",
        "ax.get_xaxis().set_major_formatter(mpl.ticker.LogFormatterMathtext())\n",
        "\n",
        "\"\"\""
      ]
    },
    {
      "cell_type": "code",
      "execution_count": null,
      "metadata": {
        "id": "ppmpKCIDZ777"
      },
      "outputs": [],
      "source": [
        "\"\"\"\n",
        "fig, axs = plt.subplots(2,3, figsize=(20, 8))\n",
        "fig.subplots_adjust(hspace = .1, wspace=.15)\n",
        "\n",
        "axs = axs.ravel()\n",
        "\n",
        "length1 = 3*np.pi\n",
        "\n",
        "x, t, U_ref = forward_euler(u_initial,f, M=40, N=100000, T=0.1, R=length1, Neumann=False)\n",
        "H, E, p = convergence_t(u_exact, U_ref,R=length1,solver=forward_euler)\n",
        "axs[0].loglog(H,E,'o-', label='p={:.2f}'.format(p))\n",
        "axs[0].legend(fontsize=14)\n",
        "\n",
        "x, t, U_ref = backward_euler(u_initial,f, M=40, N=100000, T=0.1, R=length1, Neumann=False)\n",
        "H, E, p = convergence_t(u_exact, U_ref, R=length1,solver=backward_euler)\n",
        "axs[1].loglog(H,E,'o-', label='p={:.2f}'.format(p))\n",
        "axs[1].legend(fontsize=14)\n",
        "\n",
        "x, t, U_ref = crank_nicholson(u_initial,f, M=40, N=100000, T=0.1, R=length1, Neumann=False)\n",
        "H, E, p = convergence_t(u_exact, U_ref, R=length1,solver=crank_nicholson)\n",
        "axs[2].loglog(H,E,'o-', label='p={:.2f}'.format(p))\n",
        "axs[2].legend(fontsize=14)\n",
        "\n",
        "\n",
        "length2 = 3.5*np.pi\n",
        "\n",
        "x, t, U_ref = forward_euler(u_initial,f, M=40, N=100000, T=0.1, R=length2, Neumann=True)\n",
        "H, E, p = convergence_t(u_exact, U_ref, R=length2,Neumann=True, solver=forward_euler)\n",
        "axs[3].loglog(H,E,'o-', label='p={:.2f}'.format(p))\n",
        "axs[3].legend(fontsize=14)\n",
        "\n",
        "x, t, U_ref = backward_euler(u_initial,f, M=40, N=100000, T=0.1, R=length2, Neumann=True)\n",
        "H, E, p = convergence_t(u_exact, U_ref, R=length2, Neumann=True, solver=backward_euler)\n",
        "axs[4].loglog(H,E,'o-', label='p={:.2f}'.format(p))\n",
        "axs[4].legend(fontsize=14)\n",
        "\n",
        "x, t, U_ref = crank_nicholson(u_initial,f, M=40, N=100000, T=0.1, R=length2, Neumann=True)\n",
        "H, E, p = convergence_t(u_exact, U_ref, R=length2, Neumann=True, solver=crank_nicholson)\n",
        "axs[5].loglog(H,E,'o-', label='p={:.2f}'.format(p))\n",
        "axs[5].legend(fontsize=14)\n",
        "#axs[5].set_xscale('log')\n",
        "axs[5].set_xticks([2e-5, 6e-5, 1e-4])\n",
        "\n",
        "axs[0].set_title('Forward Euler', fontsize=22)\n",
        "axs[1].set_title('Backward Euler', fontsize=22)\n",
        "axs[2].set_title('Crank Nicholson', fontsize=22)\n",
        "axs[3].set_xlabel('h', fontsize=18)\n",
        "axs[4].set_xlabel('h', fontsize=18)\n",
        "axs[5].set_xlabel('h', fontsize=18)\n",
        "axs[0].set_ylabel('Error, Dirichlet', fontsize=18)\n",
        "axs[3].set_ylabel('Error, Neumann', fontsize=18)\n",
        "\n",
        "#plt.savefig('error_time.pdf')\n",
        "#files.download('error_time.pdf')\n",
        "\"\"\""
      ]
    },
    {
      "cell_type": "markdown",
      "metadata": {
        "id": "ZnRoki5Ut-D0"
      },
      "source": [
        "## 1x2 for errors in time for BE"
      ]
    },
    {
      "cell_type": "code",
      "execution_count": null,
      "metadata": {
        "id": "4lewJQait9yW"
      },
      "outputs": [],
      "source": [
        "fig, axs = plt.subplots(1,2, figsize=(15, 3))\n",
        "\n",
        "length1 = 3*np.pi\n",
        "\n",
        "axs = axs.ravel()\n",
        "\n",
        "x, t, U_ref = backward_euler(u_initial,f, M=40, N=100000, T=0.1, R=length1, Neumann=False)\n",
        "H, E, p = convergence_t(u_exact, U_ref, R=length1,solver=backward_euler)\n",
        "axs[0].loglog(H,E,'o-', label='p={:.2f}'.format(p))\n",
        "axs[0].legend(fontsize=14)\n",
        "\n",
        "length2 = 3.5*np.pi\n",
        "\n",
        "x, t, U_ref = backward_euler(u_initial,f, M=40, N=100000, T=0.1, R=length2, Neumann=True)\n",
        "H, E, p = convergence_t(u_exact, U_ref, R=length2, Neumann=True, solver=backward_euler)\n",
        "axs[1].loglog(H,E,'o-', label='p={:.2f}'.format(p))\n",
        "axs[1].legend(fontsize=14)\n",
        "\n",
        "axs[0].set_title('Dirichlet BCs',fontsize= 18)\n",
        "axs[1].set_title('Neumann BCs',fontsize= 18)\n",
        "axs[0].set_xlabel('k',fontsize= 14)\n",
        "axs[1].set_xlabel('k',fontsize= 14)\n",
        "axs[0].set_ylabel('Error',fontsize= 14)\n",
        "axs[1].set_ylabel('Error',fontsize= 14)\n",
        "\n",
        "#plt.savefig('error_time_2.pdf')\n",
        "#files.download('error_time_2.pdf')"
      ]
    },
    {
      "cell_type": "markdown",
      "metadata": {
        "id": "6bS6aEGP378o"
      },
      "source": [
        "## 2x2 plot for errors in time and space"
      ]
    },
    {
      "cell_type": "code",
      "execution_count": null,
      "metadata": {
        "id": "EpJkxNIJ37gN"
      },
      "outputs": [],
      "source": [
        "fig, axs = plt.subplots(2,2, figsize=(15, 7))\n",
        "\n",
        "length1 = 3*np.pi\n",
        "\n",
        "axs = axs.ravel()\n",
        "\n",
        "H, E, p = convergence_x(u_exact, u_initial, forcing, T=0.1, R=length1, Neumann=False, solver=backward_euler)\n",
        "axs[0].loglog(H,E,'o-', label='p={:.2f}'.format(p))\n",
        "axs[0].legend(fontsize= 14)\n",
        "\n",
        "length2 = 3.5*np.pi\n",
        "\n",
        "H, E, p = convergence_x(u_exact, u_initial, forcing, T=0.1, R=length2, Neumann=True, solver=backward_euler)\n",
        "axs[1].loglog(H,E,'o-', label='p={:.2f}'.format(p))\n",
        "axs[1].legend(fontsize= 14)\n",
        "\n",
        "axs[0].set_title('Dirichlet BCs',fontsize= 18)\n",
        "axs[1].set_title('Neumann BCs',fontsize= 18)\n",
        "axs[0].set_xlabel('h',fontsize= 14)\n",
        "axs[1].set_xlabel('h',fontsize= 14)\n",
        "axs[0].set_ylabel('Error in space',fontsize= 14)\n",
        "axs[1].set_ylabel('Error in space',fontsize= 14)\n",
        "\n",
        "length1 = 3*np.pi\n",
        "\n",
        "axs = axs.ravel()\n",
        "\n",
        "x, t, U_ref = backward_euler(u_initial,f, M=40, N=100000, T=0.1, R=length1, Neumann=False)\n",
        "H, E, p = convergence_t(u_exact, U_ref, R=length1,solver=backward_euler)\n",
        "axs[2].loglog(H,E,'o-', label='p={:.2f}'.format(p))\n",
        "axs[2].legend(fontsize=14)\n",
        "\n",
        "length2 = 3.5*np.pi\n",
        "\n",
        "x, t, U_ref = backward_euler(u_initial,f, M=40, N=100000, T=0.1, R=length2, Neumann=True)\n",
        "H, E, p = convergence_t(u_exact, U_ref, R=length2, Neumann=True, solver=backward_euler)\n",
        "axs[3].loglog(H,E,'o-', label='p={:.2f}'.format(p))\n",
        "axs[3].legend(fontsize=14)\n",
        "\n",
        "axs[2].set_title('')\n",
        "axs[3].set_title('')\n",
        "axs[2].set_xlabel('k',fontsize= 14)\n",
        "axs[3].set_xlabel('k',fontsize= 14)\n",
        "axs[2].set_ylabel('Error in time',fontsize= 14)\n",
        "axs[3].set_ylabel('Error in time',fontsize= 14)\n",
        "\n",
        "#plt.savefig('error_time_space.pdf')\n",
        "#files.download('error_time_space.pdf')"
      ]
    },
    {
      "cell_type": "markdown",
      "metadata": {
        "id": "OEL2xQE4jmof"
      },
      "source": [
        "## Does the CFL condition hold for FE? \n",
        "\n",
        "Does the CFL conditions hold? Set $M = 20$ and $N = 400 ∨ 401$.\n",
        "\n",
        "CFL : $N\\geq T(\\sigma^2 M^2 + c)$\n",
        "* European put, dirichlet: breaks at around 260: Should have been around 400.\n",
        "* Binary call, dirichlet: breaks at around 280. \n",
        "* European put, neumann: breaks at around 320."
      ]
    },
    {
      "cell_type": "code",
      "execution_count": null,
      "metadata": {
        "id": "yhKwey4sjybG"
      },
      "outputs": [],
      "source": [
        "f = lambda x,t : 0 \n",
        "\n",
        "N_list = [281,282,283,285,290,295,300,350,400]\n",
        "error = np.zeros(len(N_list))\n",
        "# Test of FE\n",
        "for i in range(len(N_list)):\n",
        "    x, t, U = forward_euler(u_initial,forcing, M=20, N=N_list[i], T=0.5, R = 5)\n",
        "    error[i] = np.max(np.abs(u_exact(x[2:-2],t[-1])-U[2:-2,-1]))\n",
        "\n",
        "print(error)\n",
        "\n",
        "figure, ax = plt.subplots(1,1,figsize=[8,3])\n",
        "\n",
        "ax.semilogy(N_list,error,'-o')\n",
        "ax.set_xlabel('N',fontsize = 14)\n",
        "ax.set_ylabel('Error',fontsize = 14)\n",
        "\n",
        "#plt.savefig('CFL.pdf')\n",
        "#files.download('CFL.pdf')\n"
      ]
    },
    {
      "cell_type": "code",
      "execution_count": null,
      "metadata": {
        "id": "iA3jQzxclH8E"
      },
      "outputs": [],
      "source": [
        "## Plots showing how the CFL condition does not hold for small enough N\n",
        "\n",
        "f = lambda x,t : 0 \n",
        "# Test of FE\n",
        "x, t, U = forward_euler(binary_call,f, M=20, N=260, T=0.5, R = 10)\n",
        "# Plot for certain times\n",
        "plot_solution(x, t, U)\n",
        "#plt.show()\n",
        "\n",
        "# Make a 3-d plot\n",
        "plot_solution_3D(x, t, U, txt='Solution')"
      ]
    },
    {
      "cell_type": "code",
      "execution_count": null,
      "metadata": {
        "id": "oAQtFBY2llfW"
      },
      "outputs": [],
      "source": [
        "f = lambda x,t : 0 \n",
        "# Test of FE\n",
        "x, t, U = forward_euler(European_put,f, M=20, N=322, T=0.5, R = 10, Neumann=True)\n",
        "# Plot for certain times\n",
        "plot_solution(x, t, U)\n",
        "#plt.show()\n",
        "\n",
        "# Make a 3-d plot\n",
        "plot_solution_3D(x, t, U, txt='Solution')"
      ]
    },
    {
      "cell_type": "markdown",
      "metadata": {
        "id": "8Ok9LFNte2gb"
      },
      "source": [
        "## Exercise 1f, warying R"
      ]
    },
    {
      "cell_type": "code",
      "execution_count": null,
      "metadata": {
        "id": "ikbZ2odqhAPp"
      },
      "outputs": [],
      "source": [
        "def convergence_x_smaller_domain(u_exact, f, RHS, T=0.1, R=3*np.pi, M0 = 100, Neumann=False, solver=forward_euler): \n",
        "    \"\"\"\n",
        "    Input:\n",
        "        u_exact(func) : exact solution\n",
        "        RHS (func) : Right hand side of our PDE\n",
        "        f (func) : Initial condition\n",
        "        ...\n",
        "    \"\"\"\n",
        "    M = M0*R\n",
        "    x, t, U = solver(f,RHS, M=M, N=50000, T=T, R=R, Neumann=Neumann)\n",
        "    Eh = u_exact(x[0:2*M0],t[-1])-U[0:2*M0,-1]\n",
        "    error = np.max(np.abs(Eh))\n",
        "\n",
        "    return error"
      ]
    },
    {
      "cell_type": "code",
      "execution_count": null,
      "metadata": {
        "id": "tZPhkUURfBY7"
      },
      "outputs": [],
      "source": [
        "list_R = [2, 3, 4, 5, 10]\n",
        "M0=10\n",
        "e = np.zeros(len(list_R))\n",
        "i=0\n",
        "for R in list_R:\n",
        "  e[i] = convergence_x_smaller_domain(u_exact, u_initial, forcing, T=0.1, R=R, M0=M0, Neumann=False, solver=forward_euler)\n",
        "  i+=1\n",
        "  print(e)\n",
        "\n",
        "figure, ax = plt.subplots(1,1,figsize=[6,3])\n",
        "ax.semilogy(list_R,e,'-o')\n",
        "ax.set_xlabel('R',fontsize = 12)\n",
        "ax.set_ylabel('Error',fontsize = 12)\n",
        "#ax.set_xlim([1,11])\n",
        "\n",
        "plt.savefig('02K.pdf')\n",
        "files.download('02K.pdf')"
      ]
    },
    {
      "cell_type": "markdown",
      "metadata": {
        "id": "QYqzHk0P4LJO"
      },
      "source": [
        "# Task 2"
      ]
    },
    {
      "cell_type": "markdown",
      "metadata": {
        "id": "M7c2rdfTfgJP"
      },
      "source": [
        "Setting constants, defining phi, and defining exact solution with RHS."
      ]
    },
    {
      "cell_type": "code",
      "execution_count": 25,
      "metadata": {
        "id": "rAXfB7dkSflD"
      },
      "outputs": [],
      "source": [
        "sigma12 = 1\n",
        "sigma22 = 2\n",
        "\n",
        "def phi(r):\n",
        "  return sigma12 + 0.5*(sigma22-sigma12)*(1+2/np.pi*np.arctan(r))\n",
        "\n",
        "def phi_derivative(r):\n",
        "  return (sigma22-sigma12)/np.pi*(1/(1+r**2))\n",
        "\n",
        "def u_exact_nonlin(x,t):\n",
        "  return np.sin(x)*np.exp(-c*t)\n",
        "\n",
        "def u_initial_nonlin(x):\n",
        "  return np.sin(x)\n",
        "\n",
        "def RHS_nonlinear(x,t):\n",
        "  return np.exp(-c*t)*np.sin(x)*(-c + 0.5*x**2 *phi(-np.sin(x)*np.exp(-c*t)))"
      ]
    },
    {
      "cell_type": "markdown",
      "metadata": {
        "id": "aL0N1kBdfrTo"
      },
      "source": [
        "## IMEX iteration scheme and its functions "
      ]
    },
    {
      "cell_type": "code",
      "execution_count": null,
      "metadata": {
        "id": "yyxgjiEkGpFF"
      },
      "outputs": [],
      "source": [
        "def central_difference(P):\n",
        "    # Making the matrix\n",
        "    e = np.ones(P)               # array [1,1,...,1]\n",
        "    return np.diag(e[1:],-1)-2*np.diag(e)+np.diag(e[1:],1)"
      ]
    },
    {
      "cell_type": "code",
      "execution_count": null,
      "metadata": {
        "id": "DQOC3rmKwlO-"
      },
      "outputs": [],
      "source": [
        "def matrix_B(P, U, h):\n",
        "    # Returns the tridiagonal matrix which we use to contruct the matrices for\n",
        "    # IMEX. Returns a matrix of dimension P.\n",
        "\n",
        "    # Making the matrix\n",
        "    inside = 1/(h**2)*(central_difference(P).dot(U[1:-1]))\n",
        "    inside[0] += 1/(h**2)*U[0]\n",
        "    inside[-1] += 1/(h**2)*U[-1]\n",
        "\n",
        "    m = np.arange(1, P+1)        # array [1,2,...,P] \n",
        "    outside = m*m*phi(inside)\n",
        "\n",
        "    B = np.diag(outside[1:],-1)-2*np.diag(outside)+np.diag(outside[:-1],1)\n",
        "    return B"
      ]
    },
    {
      "cell_type": "code",
      "execution_count": null,
      "metadata": {
        "id": "zEraQduXAroO"
      },
      "outputs": [],
      "source": [
        "def imex(g, f=0, M=10, N=100, T=0.5, R=5):\n",
        "    # Solve the BS equation\n",
        "    # with boundary conditions u(0,t)=u(0,0)e^{-ct}\n",
        "    # and u(R,t) = u(R,0) if Dirichlet, \n",
        "    # and u_x(R,t) = 0 if Neumann,\n",
        "    # with initial values u(x,0)=g(x)\n",
        "    # over the time interval from 0 to T\n",
        "    # and space interval 0 to R (\"infinity\").\n",
        "    # Input: \n",
        "    #       g: function with the initial values,\n",
        "    #       f: RHS, function of (space,time)\n",
        "    #       M, N: number of grid intervals in the x- and t directions\n",
        "    #       T: end of time integration\n",
        "    #       R: considered infinity in x-direction\n",
        "    #       Neumann: if infinity BC is Neumann\n",
        "    # Output: \n",
        "    #       x, t: the gridpoints in the x- and t- directions \n",
        "    #       U: An array with the numerical solution.\n",
        "\n",
        "    # Set the stepsizes\n",
        "    h = R/M     # Stepsize in space\n",
        "    k = T/N     # Stepsize in time\n",
        "\n",
        "    U = np.zeros((M+1,N+1))    # Array to store the solution, boundaries included.\n",
        "    x = np.linspace(0,R,M+1)   # Gridpoints on the x-axis\n",
        "    t = np.linspace(0,T,N+1)   # Gridpoints on the t-axis\n",
        "    U[:,0] = g(x)              # Initial values      \n",
        "\n",
        "    b = np.zeros(M-1)            # Boundaries  \n",
        "    fn = np.zeros(M-1)            # RHS \n",
        "\n",
        "    # Setting U on the boundary\n",
        "    e = np.ones(N+1)\n",
        "    U[0, :] = g(x[0])*e\n",
        "    U[-1, :] = g(x[-1])*e\n",
        "\n",
        "    # Main loop \n",
        "    for n in range(N):\n",
        "      # Make matrix\n",
        "      C = np.identity(M-1)-0.5*k*matrix_B(M-1, U[:,n], h)\n",
        "      # Boundary and forcing\n",
        "      b[0] = 0.5*phi(1/(h**2)*(U[0,n]-2*U[1,n]+U[2,n]))*U[0,n]\n",
        "      b[-1] = 0.5*(M-1)**2*phi(1/(h**2)*(U[-1,n]-2*U[-2,n]+U[-3,n]))*U[-1,n]\n",
        "      fn = f(x[1:-1],n*k) + b\n",
        "      # Solve implicit part\n",
        "      U[1:-1, n+1] = np.linalg.solve(C,U[1:-1,n] + k*fn)\n",
        "\n",
        "    return x, t, U"
      ]
    },
    {
      "cell_type": "markdown",
      "metadata": {
        "id": "2Kew2wz8GCO-"
      },
      "source": [
        "## Experiments for different ICs"
      ]
    },
    {
      "cell_type": "code",
      "execution_count": 34,
      "metadata": {
        "colab": {
          "base_uri": "https://localhost:8080/",
          "height": 438
        },
        "id": "9thzW_wiHiBM",
        "outputId": "2abcd675-246d-4db3-d481-a661a2f4b8ca"
      },
      "outputs": [
        {
          "output_type": "error",
          "ename": "NameError",
          "evalue": "ignored",
          "traceback": [
            "\u001b[0;31m---------------------------------------------------------------------------\u001b[0m",
            "\u001b[0;31mNameError\u001b[0m                                 Traceback (most recent call last)",
            "\u001b[0;32m<ipython-input-34-cdf224de7767>\u001b[0m in \u001b[0;36m<module>\u001b[0;34m()\u001b[0m\n\u001b[1;32m      4\u001b[0m \u001b[0;34m\u001b[0m\u001b[0m\n\u001b[1;32m      5\u001b[0m \u001b[0;31m# EP\u001b[0m\u001b[0;34m\u001b[0m\u001b[0;34m\u001b[0m\u001b[0;34m\u001b[0m\u001b[0m\n\u001b[0;32m----> 6\u001b[0;31m \u001b[0mx\u001b[0m\u001b[0;34m,\u001b[0m \u001b[0mt\u001b[0m\u001b[0;34m,\u001b[0m \u001b[0mU\u001b[0m \u001b[0;34m=\u001b[0m \u001b[0mimex\u001b[0m\u001b[0;34m(\u001b[0m\u001b[0mEuropean_put\u001b[0m\u001b[0;34m,\u001b[0m\u001b[0mf\u001b[0m\u001b[0;34m,\u001b[0m \u001b[0mM\u001b[0m\u001b[0;34m=\u001b[0m\u001b[0;36m40\u001b[0m\u001b[0;34m,\u001b[0m \u001b[0mN\u001b[0m\u001b[0;34m=\u001b[0m\u001b[0;36m1700\u001b[0m\u001b[0;34m,\u001b[0m \u001b[0mT\u001b[0m\u001b[0;34m=\u001b[0m\u001b[0;36m0.5\u001b[0m\u001b[0;34m,\u001b[0m \u001b[0mR\u001b[0m \u001b[0;34m=\u001b[0m \u001b[0;36m5\u001b[0m\u001b[0;34m)\u001b[0m\u001b[0;34m\u001b[0m\u001b[0;34m\u001b[0m\u001b[0m\n\u001b[0m\u001b[1;32m      7\u001b[0m \u001b[0mtplots\u001b[0m \u001b[0;34m=\u001b[0m \u001b[0mnp\u001b[0m\u001b[0;34m.\u001b[0m\u001b[0mlinspace\u001b[0m\u001b[0;34m(\u001b[0m\u001b[0;36m0\u001b[0m\u001b[0;34m,\u001b[0m\u001b[0mt\u001b[0m\u001b[0;34m[\u001b[0m\u001b[0;34m-\u001b[0m\u001b[0;36m1\u001b[0m\u001b[0;34m]\u001b[0m\u001b[0;34m,\u001b[0m\u001b[0;36m6\u001b[0m\u001b[0;34m)\u001b[0m\u001b[0;34m\u001b[0m\u001b[0;34m\u001b[0m\u001b[0m\n\u001b[1;32m      8\u001b[0m \u001b[0mk\u001b[0m \u001b[0;34m=\u001b[0m \u001b[0mt\u001b[0m\u001b[0;34m[\u001b[0m\u001b[0;36m1\u001b[0m\u001b[0;34m]\u001b[0m\u001b[0;34m-\u001b[0m\u001b[0mt\u001b[0m\u001b[0;34m[\u001b[0m\u001b[0;36m0\u001b[0m\u001b[0;34m]\u001b[0m\u001b[0;34m\u001b[0m\u001b[0;34m\u001b[0m\u001b[0m\n",
            "\u001b[0;31mNameError\u001b[0m: name 'imex' is not defined"
          ]
        },
        {
          "output_type": "display_data",
          "data": {
            "image/png": "[encoded data removed]",
            "text/plain": [
              "<Figure size 864x216 with 3 Axes>"
            ]
          },
          "metadata": {
            "needs_background": "light"
          }
        }
      ],
      "source": [
        "f = lambda x,t : 0 \n",
        "\n",
        "fig, [ax1, ax2, ax3] = plt.subplots(1,3,figsize=(12, 3))\n",
        "\n",
        "# EP\n",
        "x, t, U = imex(European_put,f, M=40, N=1700, T=0.5, R = 5)\n",
        "tplots = np.linspace(0,t[-1],6)\n",
        "k = t[1]-t[0]\n",
        "for tn in tplots:\n",
        "    n = int(tn/k)\n",
        "    tn = n*k\n",
        "    ax1.plot(x,U[:,n],'-',label='t={:.1f}'.format(tn))\n",
        "    ax1.legend()\n",
        "\n",
        "# BS\n",
        "x, t, U = imex(butterfly_spread,f, M=40, N=1700, T=0.5, R = 5)\n",
        "tplots = np.linspace(0,t[-1],6)\n",
        "k = t[1]-t[0]\n",
        "for tn in tplots:\n",
        "    n = int(tn/k)\n",
        "    tn = n*k\n",
        "    ax2.plot(x,U[:,n],'-',label='t={:.1f}'.format(tn))\n",
        "\n",
        "# BC\n",
        "x, t, U = imex(binary_call,f, M=40, N=1700, T=0.5, R = 5)\n",
        "tplots = np.linspace(0,t[-1],6)\n",
        "k = t[1]-t[0]\n",
        "for tn in tplots:\n",
        "    n = int(tn/k)\n",
        "    tn = n*k\n",
        "    ax3.plot(x,U[:,n],'-',label='t={:.1f}'.format(tn))\n",
        "\n",
        "ax1.set_ylabel('u(x,t)')\n",
        "ax1.set_xlabel('x')\n",
        "ax2.set_xlabel('x')\n",
        "ax3.set_xlabel('x')\n",
        "ax1.set_title('European put')\n",
        "ax2.set_title('Butterfly spread')\n",
        "ax3.set_title('Binary call')\n",
        "\n",
        "#plt.savefig('experiment_nonlin.pdf')\n",
        "#files.download('experiment_nonlin.pdf')"
      ]
    },
    {
      "cell_type": "code",
      "execution_count": null,
      "metadata": {
        "colab": {
          "base_uri": "https://localhost:8080/",
          "height": 73
        },
        "id": "a6YEJhDkEtyi",
        "outputId": "cd0c46a8-6ce2-4c3f-9999-1ff98584ce0a"
      },
      "outputs": [
        {
          "data": {
            "text/plain": [
              "<matplotlib.legend.Legend at 0x7fb31047c510>"
            ]
          },
          "execution_count": 153,
          "metadata": {},
          "output_type": "execute_result"
        },
        {
          "data": {
            "image/png": "[encoded data removed]",
            "text/plain": [
              "<Figure size 576x216 with 1 Axes>"
            ]
          },
          "metadata": {},
          "output_type": "display_data"
        }
      ],
      "source": [
        "x, t, U = imex(u_initial_nonlin,RHS_nonlinear, M=40, N=1700, T=0.5, R = 3*np.pi)\n",
        "# Plot for certain times\n",
        "figure, ax = plt.subplots(1,1, figsize=(8, 3))\n",
        "tplots = np.linspace(0,t[-1],6)\n",
        "k = t[1]-t[0]\n",
        "for tn in tplots:\n",
        "  n = int(tn/k)\n",
        "  tn = n*k\n",
        "  plt.plot(x,U[:,n],'-',label='t={:.1f}'.format(tn))\n",
        "plt.xlabel('x',fontsize = 14)\n",
        "plt.ylabel('u(x,t)',fontsize = 14)\n",
        "plt.legend()\n",
        "\n",
        "#plt.savefig('trial_nonlin.pdf')\n",
        "#files.download('trial_nonlin.pdf')"
      ]
    },
    {
      "cell_type": "markdown",
      "metadata": {
        "id": "WHyqrWfyk_5p"
      },
      "source": [
        "## Space and Time Error in IMEX"
      ]
    },
    {
      "cell_type": "code",
      "execution_count": null,
      "metadata": {
        "colab": {
          "background_save": true
        },
        "id": "o7HJiFselIjn",
        "outputId": "650e6c52-6474-4991-c5c0-5856c5192cfb"
      },
      "outputs": [
        {
          "data": {
            "image/png": "[encoded data removed]",
            "text/plain": [
              "<Figure size 864x216 with 2 Axes>"
            ]
          },
          "metadata": {},
          "output_type": "display_data"
        }
      ],
      "source": [
        "fig, [ax1, ax2] = plt.subplots(1,2,figsize=(12, 3))\n",
        "\n",
        "def convergence_t_nonlin(solver=forward_euler, RHS=0): \n",
        "    P = 5\n",
        "    Tconv = np.zeros(P)\n",
        "    Econv = np.zeros(P)\n",
        "    N = 400\n",
        "    for p in range(P):\n",
        "        x, t, U = solver(u_initial_nonlin, RHS, M=40, N=N, T=0.1, R=3*np.pi)\n",
        "        Eh = U_ref[:,-1] - U[:,-1]\n",
        "        Tconv[p] = (t[1]-t[0])\n",
        "        Econv[p] = np.max(np.abs(Eh))\n",
        "        N = 2*N\n",
        "    order = np.polyfit(np.log(Tconv),np.log(Econv),1)[0]\n",
        "    return Tconv, Econv, order\n",
        "\n",
        "x, t, U_ref = imex(u_initial_nonlin, RHS_nonlinear, M=40, N=100000, T=0.1, R=3*np.pi)\n",
        "T, E, p = convergence_t_nonlin(imex, RHS_nonlinear)\n",
        "ax2.loglog(T,E,'o-', label='p={:.2f}'.format(p))\n",
        "ax2.set_xlabel('k')\n",
        "ax2.set_ylabel('Error')\n",
        "ax2.legend();\n",
        "\n",
        "\n",
        "#plt.savefig('imex_error.pdf')\n",
        "#files.download('imex_error.pdf')"
      ]
    },
    {
      "cell_type": "markdown",
      "metadata": {
        "id": "ubT0FQQL89zN"
      },
      "source": [
        "## An attempt to solve 2c"
      ]
    },
    {
      "cell_type": "code",
      "execution_count": null,
      "metadata": {
        "colab": {
          "background_save": true
        },
        "id": "7a53mTd988pf"
      },
      "outputs": [],
      "source": [
        "# f should be a vector function of U^n, U^(n+1) \n",
        "# Need a matrix for the jacobian"
      ]
    },
    {
      "cell_type": "code",
      "execution_count": 2,
      "metadata": {
        "id": "JukLYkj66ZLa"
      },
      "outputs": [],
      "source": [
        "def vector_f(x, y, RHS, R, M, T, N):\n",
        "    # x spiller rollen til U^(n+1)= [U_0, U_1, ..., U_(M-1), U_M]\n",
        "    # y spiller rollen tl U^(n)\n",
        "    # RHS  vector that contains [f_0, f_1, ..., f_M]\n",
        "    # R simulates infinity\n",
        "    # M number of gridpoints in x\n",
        "    # T endtime\n",
        "    # N no. of timesteps\n",
        "    h = R / M\n",
        "    k = T / N\n",
        "    dim = np.size(x) #M+1\n",
        "    # size(x) bør være lik np.size(y) = M+1, vi vil utelate randpunktene,\n",
        "    # siden ligningene er kun for m=1,..., M-1\n",
        "    #\n",
        "    # Returnerer en vektor med dimensjon M-1\n",
        "    f = np.zeros(dim-2)\n",
        "    for i in range(1, dim-1): #1, ..., M-1\n",
        "        arg = x[i-1] - 2*x[i] + x[i+1]\n",
        "        f[i-1] = x[i] - y[i] - 0.5* i**2 * phi(arg/(h**2)) * k * arg - k*RHS[i]\n",
        "    return f"
      ]
    },
    {
      "cell_type": "code",
      "execution_count": 1,
      "metadata": {
        "id": "-NQJsXHiE-3m"
      },
      "outputs": [],
      "source": [
        "def Jacobi_f(U, R, M, T, N):\n",
        "    h = R/M; k = T/N\n",
        "    dim = np.size(U)\n",
        "    Jacobi_matrix = np.zeros(shape=(dim-2, dim-2))\n",
        "\n",
        "    for i in range(dim-2):\n",
        "        mid = (U[i]-2*U[i+1]+U[i+2])\n",
        "        arg = phi_derivative(mid/(h**2)) * mid/(h**2) + phi(mid/(h**2))\n",
        "        if i-1 < 0:\n",
        "            pass\n",
        "        else:\n",
        "            Jacobi_matrix[i][i-1] = - (i+1)**2 / 2 * arg * k\n",
        "\n",
        "        if i+2 > dim-2:\n",
        "            pass\n",
        "        else:\n",
        "            Jacobi_matrix[i][i+1] = - (i+1)**2 / 2 * arg * k\n",
        "\n",
        "        Jacobi_matrix[i][i] = 1 + (i+1)**2 * arg * k\n",
        "    return Jacobi_matrix "
      ]
    },
    {
      "cell_type": "code",
      "execution_count": 32,
      "metadata": {
        "id": "jk3vKvopOmW6"
      },
      "outputs": [],
      "source": [
        "def Newtons_method(f,x,y, RHS, R, M, T, N):\n",
        "  \"\"\"\n",
        "  Input:\n",
        "      RHS(vector) [f_0, f_1, .., f_M]\n",
        "  \"\"\"\n",
        "  z = x\n",
        "  h = R/M; k = T/N\n",
        "  for n in range(50):\n",
        "    Jacobi_mat = Jacobi_f(z, R, M, T, N)\n",
        "    func = f(z, y, RHS, R, M, T, N)\n",
        "    z[1:-1] = z[1:-1] - np.linalg.inv(Jacobi_mat).dot(func)\n",
        "  return z[1:-1] \n",
        "\n",
        "def alt_Newtons_method(f,x,y,RHS,R,M,T,N):\n",
        "  \"\"\"\n",
        "  Input:\n",
        "      RHS(vector) [f_0, f_1, .., f_M]\n",
        "  \"\"\"\n",
        "  z = x\n",
        "  for n in range(20):\n",
        "    Jacobi_mat = Jacobi_f(z, R, M, T, N)\n",
        "    func = f(z, y, RHS, R, M, T, N)\n",
        "    q = np.linalg.solve(Jacobi_mat, -func)\n",
        "    z[1:-1] += q\n",
        "  return z[1:-1] "
      ]
    },
    {
      "cell_type": "code",
      "execution_count": 30,
      "metadata": {
        "id": "CU4xtcm_dXwM"
      },
      "outputs": [],
      "source": [
        "def nonlin_backward_euler(g, f, RHS, M=10, N=100, T=0.5, R=5):\n",
        "    # Solve the BS equation\n",
        "    # with boundary conditions u(0,t)=u(0,0)e^{-ct}\n",
        "    # and u(R,t) = u(R,0) if Dirichlet,\n",
        "    # with initial values u(x,0)=g(x)\n",
        "    # over the time interval from 0 to T\n",
        "    # and space interval 0 to R (\"infinity\").\n",
        "    # Input:\n",
        "    #       g: function with the initial values, European put by default\n",
        "    #       f: the whole nonlinear BS transferred to the LHS of PDE\n",
        "    #       RHS: RHS of equation\n",
        "    #       M, N: number of grid intervals in the x- and t directions\n",
        "    #       T: end of time integration\n",
        "    #       R: considered infinity in x-direction\n",
        "    # Output:\n",
        "    #       x, t: the gridpoints in the x- and t- directions\n",
        "    #       U: An array with the numerical solution.\n",
        "\n",
        "    # Set the stepsizes\n",
        "    h = R/M     # Stepsize in space\n",
        "    k = T/N     # Stepsize in time\n",
        "\n",
        "    U = np.zeros((M+1,N+1))    # Array to store the solution, boundaries included.\n",
        "    x = np.linspace(0,R,M+1)   # Gridpoints on the x-axis\n",
        "    t = np.linspace(0,T,N+1)   # Gridpoints on the t-axis\n",
        "    U[:,0] = g(x)              # Initial values\n",
        "\n",
        "    # Currently only Dirichlet\n",
        "    P = M - 1\n",
        "\n",
        "    e = np.ones(N+1)\n",
        "    U[0, :] = g(x[0])*e\n",
        "    U[-1, :] = g(x[-1])*e\n",
        "\n",
        "    for n in range(N):\n",
        "      Y = U[:, n]\n",
        "      Y[0] = U[0, n+1]; Y[-1] = U[-1, n+1];\n",
        "      U[1:-1, n+1] = Newtons_method(f, Y, U[:, n], RHS(x, t[n+1]), R, M, T, N)\n",
        "\n",
        "    return x, t, U"
      ]
    },
    {
      "cell_type": "code",
      "execution_count": 33,
      "metadata": {
        "colab": {
          "base_uri": "https://localhost:8080/",
          "height": 287
        },
        "id": "q7k_s4aNfSsl",
        "outputId": "72671db3-32af-4889-e525-5c18ba9dd6f2"
      },
      "outputs": [
        {
          "output_type": "display_data",
          "data": {
            "image/png": "[encoded data removed]",
            "text/plain": [
              "<Figure size 576x288 with 1 Axes>"
            ]
          },
          "metadata": {
            "needs_background": "light"
          }
        }
      ],
      "source": [
        "# Plot nonlinear BE\n",
        "RHS = lambda x,t: np.zeros(np.size(x))\n",
        "x, t, U = nonlin_backward_euler(butterfly_spread,vector_f, RHS, M=40, N=100, T=0.5, R = 4)\n",
        "plot_solution(x,t,U)\n",
        "plt.show()\n"
      ]
    },
    {
      "cell_type": "code",
      "execution_count": null,
      "metadata": {
        "colab": {
          "background_save": true
        },
        "id": "UFoMqZXuDsao",
        "outputId": "c66027e1-28fb-49d7-ba13-aa725d51cffb"
      },
      "outputs": [
        {
          "data": {
            "image/png": "[encoded data removed]",
            "text/plain": [
              "<Figure size 576x288 with 1 Axes>"
            ]
          },
          "metadata": {},
          "output_type": "display_data"
        }
      ],
      "source": [
        "#Plot nonlinear BE\n",
        "RHS = lambda x,t: np.zeros(np.size(x))\n",
        "x, t, U = nonlin_backward_euler(u_initial_nonlin,vector_f, RHS_nonlinear, M=40, N=1500, T=0.5, R = 10)\n",
        "plot_solution(x,t,U)\n",
        "plt.show()\n"
      ]
    },
    {
      "cell_type": "markdown",
      "metadata": {
        "id": "qLTD26y8zZOb"
      },
      "source": [
        "### Error analysis BE nonlinear"
      ]
    },
    {
      "cell_type": "code",
      "execution_count": null,
      "metadata": {
        "colab": {
          "background_save": true
        },
        "id": "t5ypw7zapPay",
        "outputId": "5bec6695-e4c2-4afd-fde1-7977da80d920"
      },
      "outputs": [
        {
          "data": {
            "application/vnd.google.colaboratory.intrinsic+json": {
              "type": "string"
            },
            "text/plain": [
              "\"\\nH, E, p = convergence_x(u_exact, u_initial, RHS_nonlinear, T=0.1, R=3*np.pi, Neumann=False, solver=nonlin_backward_euler)\\nplt.loglog(H,E,'o-', label='p={:.2f}'.format(p))\\nplt.legend()\\n\""
            ]
          },
          "execution_count": null,
          "metadata": {},
          "output_type": "execute_result"
        }
      ],
      "source": [
        "\"\"\"\n",
        "H, E, p = convergence_x(u_exact, u_initial, RHS_nonlinear, T=0.1, R=3*np.pi, Neumann=False, solver=nonlin_backward_euler)\n",
        "plt.loglog(H,E,'o-', label='p={:.2f}'.format(p))\n",
        "plt.legend()\n",
        "\"\"\""
      ]
    }
  ],
  "metadata": {
    "colab": {
      "collapsed_sections": [
        "i0ziXv5Q4fg1",
        "qfBXYAPP7Qj2",
        "JJa4IpalAgWg",
        "JKfXNgOgnGz_",
        "pk3CVKpFx_Z3",
        "pZY3M-Ne83Gj",
        "Npr002bMc9o3",
        "u95GeFNSgUdO",
        "bBaqD_oNnyod",
        "VXQ31Vb-pPa2",
        "djJfRJBZURd4",
        "QcFPzbp8n4wt",
        "ZnRoki5Ut-D0",
        "6bS6aEGP378o",
        "QYqzHk0P4LJO",
        "aL0N1kBdfrTo",
        "2Kew2wz8GCO-",
        "WHyqrWfyk_5p",
        "ubT0FQQL89zN"
      ],
      "name": "Prosjekt1.ipynb",
      "provenance": []
    },
    "kernelspec": {
      "display_name": "Python 3",
      "name": "python3"
    },
    "language_info": {
      "name": "python"
    }
  },
  "nbformat": 4,
  "nbformat_minor": 0
}